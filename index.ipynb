{
 "cells": [
  {
   "cell_type": "markdown",
   "metadata": {},
   "source": [
    "# Regular Expressions - Lab\n",
    "\n",
    "## Introduction\n",
    "\n",
    "In this lab, we'll make use of some common regex patterns to search through text. \n",
    "\n",
    "## Objectives\n",
    "\n",
    "You will be able to:\n",
    "\n",
    "* Identify common use cases where regular expressions are useful\n",
    "* Understand and explain basic pattern matching with regular expressions\n",
    "* Create regex patterns to filter through text\n",
    "\n",
    "## Getting Started\n",
    "\n",
    "In this lab, we're going to explore some of the more common operations used to filter text and match patterns with regular expressions, or _regex_ for short. \n",
    "\n",
    "For our source material, we'll be searching through the file `restaurant.txt`.  This is a sample file containing a menu from a fictional restaurant. \n",
    "\n",
    "## Using Regex Testers\n",
    "\n",
    "Working with regex patterns is an iterative process--it's quite rare that we'll write the pattern that does exactly what we want while capturing all edge cases the first time through. To make matters simpler, most developers and data scientists make use of popular regex tester websites, which allow you to put in a block of text and and test your patterns by quickly seeing visually how what a pattern will grab out of the the text block. During this lab, we strongly recommend you take some time to use a regex tester website such as [Regex Pal](https://www.regexpal.com/) or [regexr](https://regexr.com/) so that you can visually inspect how changing your regex pattern affects your results when working towards a correct answer! \n",
    "\n",
    "## Regex Cheat Sheet\n",
    "\n",
    "When learning regex, the symbols and notation for patterns can seem a bit intimidating. Don't worry about trying to memorize these symbols and patterns--it's easier to just keep a cheat sheet handy and look them up as needed. Instead, focus on understanding the basic structure of regex patterns, and then look up the syntax needed to build your pattern.  \n",
    "\n",
    "For reference, we've embedded a common Regex Cheat Sheet found online. Core regex syntax tends to be the same across all languages, so you don't have to worry too much about language-specific features for regex, or looking up regex for the wrong language. Although some languages may add in some special bells and whistles for regex, the core functionality and syntax for regex is generally the same across the board. \n",
    "\n",
    "<img src='regex_cheat_sheet.png'>"
   ]
  },
  {
   "cell_type": "code",
   "execution_count": null,
   "metadata": {},
   "outputs": [],
   "source": []
  }
 ],
 "metadata": {
  "kernelspec": {
   "display_name": "Python 3",
   "language": "python",
   "name": "python3"
  },
  "language_info": {
   "codemirror_mode": {
    "name": "ipython",
    "version": 3
   },
   "file_extension": ".py",
   "mimetype": "text/x-python",
   "name": "python",
   "nbconvert_exporter": "python",
   "pygments_lexer": "ipython3",
   "version": "3.6.7"
  }
 },
 "nbformat": 4,
 "nbformat_minor": 2
}
